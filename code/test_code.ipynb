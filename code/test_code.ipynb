{
 "cells": [
  {
   "cell_type": "code",
   "execution_count": null,
   "metadata": {},
   "outputs": [],
   "source": [
   ]
  },
  {
   "cell_type": "code",
   "execution_count": 40,
   "metadata": {},
   "outputs": [
    {
     "name": "stdout",
     "output_type": "stream",
     "text": [
      "{\n",
      "    \"pages\": [\n",
      "        {\n",
      "            \"index\": 0,\n",
      "            \"markdown\": \"# Shai Gusto Restaurant 2011 Hewitt Ave Everett WA 98201 <br> Tel. 425-252-3525 Fax. 425-252-3525 <br> Welcome to Thai Gusto \\n\\n## Table 4\\n\\nDate: 6/16/2017 12:36 PM\\nServer: PRACH\\nChang (2\\\\$3.50) \\\\$7.00\\n\\\\#L14 Garlic Delight \\\\$10.24\\n[Chicken][5*****][Smal1 Brown Rice]\\n\\\\#L28 Red Curry \\\\$10.24\\n[Chicken][5*****][Smal1 Brown Rice]\\nTotal 4 item(s) \\\\$27.48\\nSales Tax \\\\$2.67\\n$\\\\qquad$\\n$\\\\qquad$\\n\\n## Grand Total $\\\\$ 30.15$\\n\\nTip Guide\\n$15 \\\\%=\\\\$ 4.52, \\\\quad 18 \\\\%=\\\\$ 5.43, \\\\quad 20 \\\\%=\\\\$ 6.03$\\n\\nThank you very much.\\nCome back again.\\n\\n- GUEST CHECK -\\n\\nThis is not a receipt.\",\n",
      "            \"images\": [],\n",
      "            \"dimensions\": {\n",
      "                \"dpi\": 200,\n",
      "                \"height\": 1000,\n",
      "                \"width\": 750\n",
      "            }\n",
      "        }\n",
      "    ],\n",
      "    \"model\": \"mistral-ocr-2503-completion\",\n",
      "    \"usage_info\": {\n",
      "        \"pages_processed\": 1,\n",
      "        \"doc_size_bytes\": 132421\n",
      "    }\n",
      "}\n"
     ]
    }
   ],
   "source": []
  },
  {
   "cell_type": "code",
   "execution_count": 41,
   "metadata": {},
   "outputs": [],
   "source": [
    "image_ocr_markdown = response_dict[\"pages\"][0][\"markdown\"]"
   ]
  },
  {
   "cell_type": "code",
   "execution_count": 65,
   "metadata": {},
   "outputs": [],
   "source": [
    "# Initialize Mistral client with API key\n",
    "from mistralai import Mistral\n",
    "from dotenv import load_dotenv\n",
    "\n",
    "load_dotenv()\n",
    "api_key = \"NdFK8CWBYMTDOy1TfjiApAwKgg4LnEPA\" # Replace with your API key\n",
    "client = Mistral(api_key=api_key)\n",
    "\n",
    "# Import required libraries\n",
    "from pathlib import Path\n",
    "from mistralai import DocumentURLChunk, ImageURLChunk, TextChunk\n",
    "import json\n",
    "\n",
    "# Verify PDF file exists\n",
    "import base64\n",
    "\n",
    "# Verify image exists\n",
    "image_file = Path(\"/Users/eliot/Desktop/project_ML/dataset/receipts/1027-receipt.jpg\")\n",
    "assert image_file.is_file()\n",
    "\n",
    "# Encode image as base64 for API\n",
    "encoded = base64.b64encode(image_file.read_bytes()).decode()\n",
    "base64_data_url = f\"data:image/jpeg;base64,{encoded}\"\n",
    "\n",
    "image_response = client.ocr.process(\n",
    "    document=ImageURLChunk(image_url=base64_data_url),\n",
    "    model=\"mistral-ocr-latest\"\n",
    ")\n",
    "\n",
    "# Convert response to JSON\n",
    "response_dict = json.loads(image_response.model_dump_json())\n",
    "json_string = json.dumps(response_dict, indent=4)\n",
    "\n",
    "image_ocr_markdown = response_dict[\"pages\"][0][\"markdown\"]\n",
    "# Get structured response from model\n",
    "chat_response = client.chat.complete(\n",
    "    model=\"pixtral-12b-latest\",\n",
    "    messages=[\n",
    "        {\n",
    "            \"role\": \"user\",\n",
    "            \"content\": [\n",
    "                ImageURLChunk(image_url=base64_data_url),\n",
    "                TextChunk(\n",
    "                    text=(\n",
    "                        f\"This is image's OCR in markdown:\\n\\n{image_ocr_markdown}\\n.\\n\"\n",
    "                        \"I wan't same structured json with only 'name' restaurant final 'total' and 'date', and the 'adress'\"\n",
    "                        \"The output should be strictly be json with no extra commentary\"\n",
    "                        \n",
    "                    )\n",
    "                ),\n",
    "            ],\n",
    "        }\n",
    "    ],\n",
    "    response_format={\"type\": \"json_object\"},\n",
    "    temperature=0,\n",
    ")\n",
    "\n",
    "# Parse and return JSON response\n",
    "response_dict = json.loads(chat_response.choices[0].message.content)\n",
    "\n"
   ]
  },
  {
   "cell_type": "code",
   "execution_count": 66,
   "metadata": {},
   "outputs": [
    {
     "data": {
      "text/plain": [
       "{'restaurant': {'name': 'Longboards',\n",
       "  'address': '92-161 Waipahe Place, Kapolei, HI 96707'},\n",
       " 'total': 44.31,\n",
       " 'date': '01/11/2019'}"
      ]
     },
     "execution_count": 66,
     "metadata": {},
     "output_type": "execute_result"
    }
   ],
   "source": [
    "response_dict"
   ]
  },
  {
   "cell_type": "code",
   "execution_count": 74,
   "metadata": {},
   "outputs": [],
   "source": [
    "import pandas"
   ]
  },
  {
   "cell_type": "code",
   "execution_count": 72,
   "metadata": {},
   "outputs": [
    {
     "ename": "ModuleNotFoundError",
     "evalue": "No module named 'pandas'",
     "output_type": "error",
     "traceback": [
      "\u001b[31m---------------------------------------------------------------------------\u001b[39m",
      "\u001b[31mModuleNotFoundError\u001b[39m                       Traceback (most recent call last)",
      "\u001b[36mCell\u001b[39m\u001b[36m \u001b[39m\u001b[32mIn[72]\u001b[39m\u001b[32m, line 2\u001b[39m\n\u001b[32m      1\u001b[39m \u001b[38;5;28;01mimport\u001b[39;00m\u001b[38;5;250m \u001b[39m\u001b[34;01mos\u001b[39;00m\n\u001b[32m----> \u001b[39m\u001b[32m2\u001b[39m \u001b[38;5;28;01mimport\u001b[39;00m\u001b[38;5;250m \u001b[39m\u001b[34;01mpandas\u001b[39;00m\u001b[38;5;250m \u001b[39m\u001b[38;5;28;01mas\u001b[39;00m\u001b[38;5;250m \u001b[39m\u001b[34;01mpd\u001b[39;00m\n\u001b[32m      4\u001b[39m folder_path = \u001b[33m\"\u001b[39m\u001b[33m/Users/eliot/Desktop/project_ML/dataset/\u001b[39m\u001b[33m\"\u001b[39m\n\u001b[32m      5\u001b[39m all_dfs = []\n",
      "\u001b[31mModuleNotFoundError\u001b[39m: No module named 'pandas'"
     ]
    }
   ],
   "source": [
    "\n",
    "import os\n",
    "import pandas as pd\n",
    "\n",
    "folder_path = \"/Users/eliot/Desktop/project_ML/dataset/\"\n",
    "all_dfs = []\n",
    "\n",
    "for filename in os.listdir(folder_path):\n",
    "    if filename.endswith('.csv'):  # You can change this for other file types\n",
    "        full_path = os.path.join(folder_path, filename)\n",
    "        df = pd.read_csv(full_path)\n",
    "        all_dfs.append(df)\n",
    "\n",
    "# Concatenate all DataFrames into one\n",
    "combined_df = pd.concat(all_dfs, ignore_index=True)\n",
    "\n",
    "print(combined_df.head())\n",
    "\n"
   ]
  }
 ],
 "metadata": {
  "kernelspec": {
   "display_name": "venv",
   "language": "python",
   "name": "python3"
  },
  "language_info": {
   "codemirror_mode": {
    "name": "ipython",
    "version": 3
   },
   "file_extension": ".py",
   "mimetype": "text/x-python",
   "name": "python",
   "nbconvert_exporter": "python",
   "pygments_lexer": "ipython3",
   "version": "3.11.0"
  }
 },
 "nbformat": 4,
 "nbformat_minor": 2
}
